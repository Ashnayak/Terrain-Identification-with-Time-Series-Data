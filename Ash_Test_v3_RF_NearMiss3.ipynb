{
  "nbformat": 4,
  "nbformat_minor": 0,
  "metadata": {
    "kernelspec": {
      "display_name": "Python 3",
      "language": "python",
      "name": "python3"
    },
    "language_info": {
      "codemirror_mode": {
        "name": "ipython",
        "version": 3
      },
      "file_extension": ".py",
      "mimetype": "text/x-python",
      "name": "python",
      "nbconvert_exporter": "python",
      "pygments_lexer": "ipython3",
      "version": "3.8.5"
    },
    "colab": {
      "name": "Ash Test v3-RF_NearMiss3.ipynb",
      "provenance": [],
      "collapsed_sections": [],
      "include_colab_link": true
    }
  },
  "cells": [
    {
      "cell_type": "markdown",
      "metadata": {
        "id": "view-in-github",
        "colab_type": "text"
      },
      "source": [
        "<a href=\"https://colab.research.google.com/github/Ashnayak/Terrain-Identification-with-Time-Series-Data/blob/main/Ash_Test_v3_RF_NearMiss3.ipynb\" target=\"_parent\"><img src=\"https://colab.research.google.com/assets/colab-badge.svg\" alt=\"Open In Colab\"/></a>"
      ]
    },
    {
      "cell_type": "code",
      "metadata": {
        "colab": {
          "base_uri": "https://localhost:8080/"
        },
        "id": "pHBqw7n5Hbe8",
        "outputId": "7f2997bd-b00d-45ed-c32c-45f89736847c"
      },
      "source": [
        "from google.colab import drive\n",
        "drive.mount('/content/gdrive')"
      ],
      "execution_count": 1,
      "outputs": [
        {
          "output_type": "stream",
          "text": [
            "Mounted at /content/gdrive\n"
          ],
          "name": "stdout"
        }
      ]
    },
    {
      "cell_type": "code",
      "metadata": {
        "colab": {
          "base_uri": "https://localhost:8080/"
        },
        "id": "GaMnAux6Ef7d",
        "outputId": "1bb7199c-b972-4309-bbf6-b2b418d2bcde"
      },
      "source": [
        "import imblearn\n",
        "print(imblearn.__version__)"
      ],
      "execution_count": 2,
      "outputs": [
        {
          "output_type": "stream",
          "text": [
            "/usr/local/lib/python3.7/dist-packages/sklearn/externals/six.py:31: FutureWarning: The module is deprecated in version 0.21 and will be removed in version 0.23 since we've dropped support for Python 2.7. Please rely on the official version of six (https://pypi.org/project/six/).\n",
            "  \"(https://pypi.org/project/six/).\", FutureWarning)\n"
          ],
          "name": "stderr"
        },
        {
          "output_type": "stream",
          "text": [
            "0.4.3\n"
          ],
          "name": "stdout"
        },
        {
          "output_type": "stream",
          "text": [
            "/usr/local/lib/python3.7/dist-packages/sklearn/utils/deprecation.py:144: FutureWarning: The sklearn.neighbors.base module is  deprecated in version 0.22 and will be removed in version 0.24. The corresponding classes / functions should instead be imported from sklearn.neighbors. Anything that cannot be imported from sklearn.neighbors is now part of the private API.\n",
            "  warnings.warn(message, FutureWarning)\n"
          ],
          "name": "stderr"
        }
      ]
    },
    {
      "cell_type": "code",
      "metadata": {
        "id": "JH2LNL86HnQP"
      },
      "source": [
        "from google.colab import files"
      ],
      "execution_count": 65,
      "outputs": []
    },
    {
      "cell_type": "code",
      "metadata": {
        "id": "Kk1iA12LEf7k"
      },
      "source": [
        "import pandas as pd\n",
        "import os\n",
        "import re\n",
        "import fnmatch\n",
        "import sklearn\n",
        "\n",
        "from numpy import genfromtxt\n",
        "from pandas import DataFrame\n",
        "import numpy as np\n",
        "from imblearn.under_sampling import NearMiss\n",
        "# from keras.preprocessing import sequence\n",
        "# from keras.models import Sequential\n",
        "# from keras.layers import Dense\n",
        "# from keras.layers import LSTM\n",
        "# from keras.optimizers import Adam\n",
        "# from keras.models import load_model\n",
        "# from keras.callbacks import ModelCheckpoint"
      ],
      "execution_count": 23,
      "outputs": []
    },
    {
      "cell_type": "code",
      "metadata": {
        "id": "lPhVcw8qEf7m"
      },
      "source": [
        "from collections import Counter\n",
        "from imblearn.over_sampling import SMOTE"
      ],
      "execution_count": 4,
      "outputs": []
    },
    {
      "cell_type": "code",
      "metadata": {
        "id": "AkOfI2umJqKb"
      },
      "source": [
        "os.chdir(\"./gdrive/My Drive/\")"
      ],
      "execution_count": 5,
      "outputs": []
    },
    {
      "cell_type": "code",
      "metadata": {
        "colab": {
          "base_uri": "https://localhost:8080/"
        },
        "id": "8HFS0_iOcaMs",
        "outputId": "5fac6c92-dbcc-4535-c105-acd5b918f2f6"
      },
      "source": [
        "ls"
      ],
      "execution_count": 6,
      "outputs": [
        {
          "output_type": "stream",
          "text": [
            "'Annual financial data.gsheet'               \u001b[0m\u001b[01;34mGoogle_Colab\u001b[0m/\n",
            " AshwiniNayakResume_Jan20.pdf                merged_ADS_Ash_v2_6attributes.zip\n",
            "\u001b[01;34m'Colab Notebooks'\u001b[0m/                           merged_ADS_Ash.zip\n",
            " \u001b[01;34mDatasets-CyberBullying\u001b[0m/                    'NN Iteration sheet.gsheet'\n",
            "'DBMS Report 2.gdoc'                        \u001b[01;36m'PDF slides'\u001b[0m@\n",
            " \u001b[01;36mECE542_sp2021_Project_TerrainRecognition\u001b[0m@   Screenshot_20201210-164649__01.jpg\n",
            " G10_HW2.gdoc                               'Untitled document.gdoc'\n",
            "'Getting started.pdf'\n"
          ],
          "name": "stdout"
        }
      ]
    },
    {
      "cell_type": "code",
      "metadata": {
        "colab": {
          "base_uri": "https://localhost:8080/"
        },
        "id": "jQrha2v8JYfr",
        "outputId": "2096855b-20d9-486f-ea4a-94a9aade245f"
      },
      "source": [
        " cd 'Google_Colab'"
      ],
      "execution_count": 7,
      "outputs": [
        {
          "output_type": "stream",
          "text": [
            "/content/gdrive/My Drive/Google_Colab\n"
          ],
          "name": "stdout"
        }
      ]
    },
    {
      "cell_type": "code",
      "metadata": {
        "colab": {
          "base_uri": "https://localhost:8080/"
        },
        "id": "9pmJvAMgEf7n",
        "outputId": "c181e96d-9e5f-491a-dfca-370e7872448b"
      },
      "source": [
        "#Creating a file path and creating lists out of grouped filenames\n",
        "\n",
        "listy= os.listdir(\"TrainingData\")[1::]\n",
        "Files_x = fnmatch.filter(listy, '*x.csv')\n",
        "Files_x_time = fnmatch.filter(listy, '*x_time.csv')\n",
        "Files_y = fnmatch.filter(listy, '*y.csv')\n",
        "Files_y_time = fnmatch.filter(listy, '*y_time.csv')\n",
        "listz= os.listdir('TestData')\n",
        "listz\n",
        "Test_Files_x = fnmatch.filter(listz, '*x.csv')\n",
        "Test_Files_x_time = fnmatch.filter(listz, '*x_time.csv')\n",
        "#Test_Files_y = fnmatch.filter(listz, '*y.csv')\n",
        "Test_Files_y_time = fnmatch.filter(listz, '*y_time.csv')\n",
        "Files_x"
      ],
      "execution_count": 8,
      "outputs": [
        {
          "output_type": "execute_result",
          "data": {
            "text/plain": [
              "['subject_001_01__x.csv',\n",
              " 'subject_001_06__x.csv',\n",
              " 'subject_001_05__x.csv',\n",
              " 'subject_001_03__x.csv',\n",
              " 'subject_001_07__x.csv',\n",
              " 'subject_001_08__x.csv',\n",
              " 'subject_001_04__x.csv',\n",
              " 'subject_002_05__x.csv',\n",
              " 'subject_002_03__x.csv',\n",
              " 'subject_002_01__x.csv',\n",
              " 'subject_002_04__x.csv',\n",
              " 'subject_001_02__x.csv',\n",
              " 'subject_002_02__x.csv',\n",
              " 'subject_003_01__x.csv',\n",
              " 'subject_003_03__x.csv',\n",
              " 'subject_003_02__x.csv',\n",
              " 'subject_004_01__x.csv',\n",
              " 'subject_004_02__x.csv',\n",
              " 'subject_005_02__x.csv',\n",
              " 'subject_005_01__x.csv',\n",
              " 'subject_005_03__x.csv',\n",
              " 'subject_006_01__x.csv',\n",
              " 'subject_006_02__x.csv',\n",
              " 'subject_006_03__x.csv',\n",
              " 'subject_007_01__x.csv',\n",
              " 'subject_007_03__x.csv',\n",
              " 'subject_007_02__x.csv',\n",
              " 'subject_007_04__x.csv',\n",
              " 'subject_008_01__x.csv']"
            ]
          },
          "metadata": {
            "tags": []
          },
          "execution_count": 8
        }
      ]
    },
    {
      "cell_type": "code",
      "metadata": {
        "colab": {
          "base_uri": "https://localhost:8080/"
        },
        "id": "kXvN-rOmLCTt",
        "outputId": "b9f6f834-83ab-43af-f739-b0217fc3c2c3"
      },
      "source": [
        "cd 'TrainingData'"
      ],
      "execution_count": 9,
      "outputs": [
        {
          "output_type": "stream",
          "text": [
            "/content/gdrive/My Drive/Google_Colab/TrainingData\n"
          ],
          "name": "stdout"
        }
      ]
    },
    {
      "cell_type": "code",
      "metadata": {
        "id": "vJ3A-e0gEf7p",
        "colab": {
          "base_uri": "https://localhost:8080/"
        },
        "outputId": "fdceff71-c276-4caa-bbaa-2bc27e2b1f0d"
      },
      "source": [
        "files = sorted(set([x[:14] for x in Files_x]))\n",
        "master_data = pd.DataFrame()\n",
        "master_data_y = pd.DataFrame()\n",
        "for file in files:\n",
        "    y_data = pd.read_csv(file+\"__y.csv\", names = [\"label\"])\n",
        "    y_time = pd.read_csv(file+\"__y_time.csv\", names = [\"y_time\"])\n",
        "    x_data = pd.read_csv(file+\"__x.csv\", names=['accr_x', 'accr_y','accr_z','gyr_x','gyr_y','gyr_z'])\n",
        "    x_time = pd.read_csv(file+\"__x_time.csv\", names = [\"x_time\"])\n",
        "    x_data[\"time\"] = x_time[\"x_time\"]    \n",
        "    y_data[\"time\"] = y_time[\"y_time\"]    \n",
        "    data = x_data.merge(y_data,how=\"outer\", on = \"time\")\n",
        "    data.sort_values(\"time\", inplace =True)\n",
        "#    data['drop_flag'] = data[\"label\"].isnull()\n",
        "    data[\"label\"]=data[\"label\"].fillna(method = \"bfill\")\n",
        "    data[\"label\"]=data[\"label\"].fillna(method = \"ffill\")\n",
        "    data = data.interpolate()\n",
        "#    data = data[data[\"drop_flag\"]]\n",
        "#    data.drop(\"drop_flag\", inplace = True,axis = 1)\n",
        "    data[\"subject\"] = file\n",
        "    y_data[\"subject\"] = file\n",
        "    master_data = master_data.append(data)\n",
        "    master_data_y = master_data_y.append(data)\n",
        "    \n",
        "# temp = master_data - master_data.groupby(\"subject\").shift(1)\n",
        "# temp = temp.drop([\"label\",\"subject\"],axis=1).fillna(0)\n",
        "# temp.columns = [x + \"delta1\" for x in temp.columns]\n",
        "# master_data = pd.concat([master_data,temp],axis=1)\n",
        "master_data.set_index([\"subject\",\"time\"], inplace = True)\n",
        "master_data_y.set_index([\"subject\",\"time\"], inplace = True)\n",
        "master_data.head()\n",
        "len(master_data)"
      ],
      "execution_count": 14,
      "outputs": [
        {
          "output_type": "execute_result",
          "data": {
            "text/plain": [
              "1677059"
            ]
          },
          "metadata": {
            "tags": []
          },
          "execution_count": 14
        }
      ]
    },
    {
      "cell_type": "code",
      "metadata": {
        "id": "89gmIk5dEf7q",
        "colab": {
          "base_uri": "https://localhost:8080/",
          "height": 700
        },
        "outputId": "7fbffc00-8708-4b30-d3ef-1a55b6dc778e"
      },
      "source": [
        "master_data.head(20)"
      ],
      "execution_count": 15,
      "outputs": [
        {
          "output_type": "execute_result",
          "data": {
            "text/html": [
              "<div>\n",
              "<style scoped>\n",
              "    .dataframe tbody tr th:only-of-type {\n",
              "        vertical-align: middle;\n",
              "    }\n",
              "\n",
              "    .dataframe tbody tr th {\n",
              "        vertical-align: top;\n",
              "    }\n",
              "\n",
              "    .dataframe thead th {\n",
              "        text-align: right;\n",
              "    }\n",
              "</style>\n",
              "<table border=\"1\" class=\"dataframe\">\n",
              "  <thead>\n",
              "    <tr style=\"text-align: right;\">\n",
              "      <th></th>\n",
              "      <th></th>\n",
              "      <th>accr_x</th>\n",
              "      <th>accr_y</th>\n",
              "      <th>accr_z</th>\n",
              "      <th>gyr_x</th>\n",
              "      <th>gyr_y</th>\n",
              "      <th>gyr_z</th>\n",
              "      <th>label</th>\n",
              "    </tr>\n",
              "    <tr>\n",
              "      <th>subject</th>\n",
              "      <th>time</th>\n",
              "      <th></th>\n",
              "      <th></th>\n",
              "      <th></th>\n",
              "      <th></th>\n",
              "      <th></th>\n",
              "      <th></th>\n",
              "      <th></th>\n",
              "    </tr>\n",
              "  </thead>\n",
              "  <tbody>\n",
              "    <tr>\n",
              "      <th rowspan=\"20\" valign=\"top\">subject_001_01</th>\n",
              "      <th>0.000</th>\n",
              "      <td>4.435275</td>\n",
              "      <td>8.196063</td>\n",
              "      <td>2.974488</td>\n",
              "      <td>0.014215</td>\n",
              "      <td>-0.039157</td>\n",
              "      <td>-0.016744</td>\n",
              "      <td>0.0</td>\n",
              "    </tr>\n",
              "    <tr>\n",
              "      <th>0.020</th>\n",
              "      <td>4.311097</td>\n",
              "      <td>8.270259</td>\n",
              "      <td>2.941273</td>\n",
              "      <td>0.009993</td>\n",
              "      <td>-0.021818</td>\n",
              "      <td>-0.010045</td>\n",
              "      <td>0.0</td>\n",
              "    </tr>\n",
              "    <tr>\n",
              "      <th>0.025</th>\n",
              "      <td>4.186920</td>\n",
              "      <td>8.344455</td>\n",
              "      <td>2.908057</td>\n",
              "      <td>0.005771</td>\n",
              "      <td>-0.004480</td>\n",
              "      <td>-0.003345</td>\n",
              "      <td>0.0</td>\n",
              "    </tr>\n",
              "    <tr>\n",
              "      <th>0.050</th>\n",
              "      <td>4.544637</td>\n",
              "      <td>8.408659</td>\n",
              "      <td>2.890000</td>\n",
              "      <td>0.007967</td>\n",
              "      <td>0.022412</td>\n",
              "      <td>0.001159</td>\n",
              "      <td>0.0</td>\n",
              "    </tr>\n",
              "    <tr>\n",
              "      <th>0.075</th>\n",
              "      <td>4.849308</td>\n",
              "      <td>8.411614</td>\n",
              "      <td>2.900692</td>\n",
              "      <td>0.027778</td>\n",
              "      <td>-0.010670</td>\n",
              "      <td>-0.014223</td>\n",
              "      <td>0.0</td>\n",
              "    </tr>\n",
              "    <tr>\n",
              "      <th>0.100</th>\n",
              "      <td>4.509190</td>\n",
              "      <td>8.118649</td>\n",
              "      <td>2.847298</td>\n",
              "      <td>0.021577</td>\n",
              "      <td>-0.045498</td>\n",
              "      <td>-0.021111</td>\n",
              "      <td>0.0</td>\n",
              "    </tr>\n",
              "    <tr>\n",
              "      <th>0.120</th>\n",
              "      <td>4.367852</td>\n",
              "      <td>8.196228</td>\n",
              "      <td>2.849520</td>\n",
              "      <td>0.017055</td>\n",
              "      <td>-0.022526</td>\n",
              "      <td>-0.018970</td>\n",
              "      <td>0.0</td>\n",
              "    </tr>\n",
              "    <tr>\n",
              "      <th>0.125</th>\n",
              "      <td>4.226515</td>\n",
              "      <td>8.273807</td>\n",
              "      <td>2.851742</td>\n",
              "      <td>0.012534</td>\n",
              "      <td>0.000445</td>\n",
              "      <td>-0.016830</td>\n",
              "      <td>0.0</td>\n",
              "    </tr>\n",
              "    <tr>\n",
              "      <th>0.150</th>\n",
              "      <td>4.532063</td>\n",
              "      <td>8.398341</td>\n",
              "      <td>2.856682</td>\n",
              "      <td>0.014484</td>\n",
              "      <td>0.028769</td>\n",
              "      <td>-0.011091</td>\n",
              "      <td>0.0</td>\n",
              "    </tr>\n",
              "    <tr>\n",
              "      <th>0.175</th>\n",
              "      <td>4.433669</td>\n",
              "      <td>8.294719</td>\n",
              "      <td>2.823521</td>\n",
              "      <td>0.016340</td>\n",
              "      <td>-0.029434</td>\n",
              "      <td>-0.008998</td>\n",
              "      <td>0.0</td>\n",
              "    </tr>\n",
              "    <tr>\n",
              "      <th>0.200</th>\n",
              "      <td>4.160676</td>\n",
              "      <td>8.260676</td>\n",
              "      <td>2.827568</td>\n",
              "      <td>0.011222</td>\n",
              "      <td>-0.016748</td>\n",
              "      <td>-0.006027</td>\n",
              "      <td>0.0</td>\n",
              "    </tr>\n",
              "    <tr>\n",
              "      <th>0.220</th>\n",
              "      <td>4.296720</td>\n",
              "      <td>8.266644</td>\n",
              "      <td>2.808809</td>\n",
              "      <td>0.004253</td>\n",
              "      <td>0.003173</td>\n",
              "      <td>0.003098</td>\n",
              "      <td>0.0</td>\n",
              "    </tr>\n",
              "    <tr>\n",
              "      <th>0.225</th>\n",
              "      <td>4.432763</td>\n",
              "      <td>8.272613</td>\n",
              "      <td>2.790050</td>\n",
              "      <td>-0.002715</td>\n",
              "      <td>0.023094</td>\n",
              "      <td>0.012222</td>\n",
              "      <td>0.0</td>\n",
              "    </tr>\n",
              "    <tr>\n",
              "      <th>0.250</th>\n",
              "      <td>4.511362</td>\n",
              "      <td>8.256774</td>\n",
              "      <td>2.820538</td>\n",
              "      <td>-0.002248</td>\n",
              "      <td>0.001547</td>\n",
              "      <td>0.011137</td>\n",
              "      <td>0.0</td>\n",
              "    </tr>\n",
              "    <tr>\n",
              "      <th>0.275</th>\n",
              "      <td>4.098018</td>\n",
              "      <td>8.154184</td>\n",
              "      <td>2.901101</td>\n",
              "      <td>-0.010418</td>\n",
              "      <td>-0.042853</td>\n",
              "      <td>0.005031</td>\n",
              "      <td>0.0</td>\n",
              "    </tr>\n",
              "    <tr>\n",
              "      <th>0.300</th>\n",
              "      <td>3.931769</td>\n",
              "      <td>8.203628</td>\n",
              "      <td>2.958186</td>\n",
              "      <td>-0.015232</td>\n",
              "      <td>-0.006177</td>\n",
              "      <td>0.016877</td>\n",
              "      <td>0.0</td>\n",
              "    </tr>\n",
              "    <tr>\n",
              "      <th>0.320</th>\n",
              "      <td>4.228047</td>\n",
              "      <td>8.325295</td>\n",
              "      <td>2.916271</td>\n",
              "      <td>-0.009335</td>\n",
              "      <td>0.015066</td>\n",
              "      <td>0.031164</td>\n",
              "      <td>0.0</td>\n",
              "    </tr>\n",
              "    <tr>\n",
              "      <th>0.325</th>\n",
              "      <td>4.524325</td>\n",
              "      <td>8.446963</td>\n",
              "      <td>2.874356</td>\n",
              "      <td>-0.003438</td>\n",
              "      <td>0.036310</td>\n",
              "      <td>0.045451</td>\n",
              "      <td>0.0</td>\n",
              "    </tr>\n",
              "    <tr>\n",
              "      <th>0.350</th>\n",
              "      <td>4.615744</td>\n",
              "      <td>8.385348</td>\n",
              "      <td>2.782674</td>\n",
              "      <td>-0.002790</td>\n",
              "      <td>0.012677</td>\n",
              "      <td>0.054444</td>\n",
              "      <td>0.0</td>\n",
              "    </tr>\n",
              "    <tr>\n",
              "      <th>0.375</th>\n",
              "      <td>4.392814</td>\n",
              "      <td>8.239121</td>\n",
              "      <td>2.830176</td>\n",
              "      <td>0.001527</td>\n",
              "      <td>0.015576</td>\n",
              "      <td>0.052817</td>\n",
              "      <td>0.0</td>\n",
              "    </tr>\n",
              "  </tbody>\n",
              "</table>\n",
              "</div>"
            ],
            "text/plain": [
              "                        accr_x    accr_y    accr_z  ...     gyr_y     gyr_z  label\n",
              "subject        time                                 ...                           \n",
              "subject_001_01 0.000  4.435275  8.196063  2.974488  ... -0.039157 -0.016744    0.0\n",
              "               0.020  4.311097  8.270259  2.941273  ... -0.021818 -0.010045    0.0\n",
              "               0.025  4.186920  8.344455  2.908057  ... -0.004480 -0.003345    0.0\n",
              "               0.050  4.544637  8.408659  2.890000  ...  0.022412  0.001159    0.0\n",
              "               0.075  4.849308  8.411614  2.900692  ... -0.010670 -0.014223    0.0\n",
              "               0.100  4.509190  8.118649  2.847298  ... -0.045498 -0.021111    0.0\n",
              "               0.120  4.367852  8.196228  2.849520  ... -0.022526 -0.018970    0.0\n",
              "               0.125  4.226515  8.273807  2.851742  ...  0.000445 -0.016830    0.0\n",
              "               0.150  4.532063  8.398341  2.856682  ...  0.028769 -0.011091    0.0\n",
              "               0.175  4.433669  8.294719  2.823521  ... -0.029434 -0.008998    0.0\n",
              "               0.200  4.160676  8.260676  2.827568  ... -0.016748 -0.006027    0.0\n",
              "               0.220  4.296720  8.266644  2.808809  ...  0.003173  0.003098    0.0\n",
              "               0.225  4.432763  8.272613  2.790050  ...  0.023094  0.012222    0.0\n",
              "               0.250  4.511362  8.256774  2.820538  ...  0.001547  0.011137    0.0\n",
              "               0.275  4.098018  8.154184  2.901101  ... -0.042853  0.005031    0.0\n",
              "               0.300  3.931769  8.203628  2.958186  ... -0.006177  0.016877    0.0\n",
              "               0.320  4.228047  8.325295  2.916271  ...  0.015066  0.031164    0.0\n",
              "               0.325  4.524325  8.446963  2.874356  ...  0.036310  0.045451    0.0\n",
              "               0.350  4.615744  8.385348  2.782674  ...  0.012677  0.054444    0.0\n",
              "               0.375  4.392814  8.239121  2.830176  ...  0.015576  0.052817    0.0\n",
              "\n",
              "[20 rows x 7 columns]"
            ]
          },
          "metadata": {
            "tags": []
          },
          "execution_count": 15
        }
      ]
    },
    {
      "cell_type": "code",
      "metadata": {
        "colab": {
          "base_uri": "https://localhost:8080/",
          "height": 275
        },
        "id": "ziS4RIL-74YB",
        "outputId": "45cee492-a925-4f45-f88f-d8a8d94c69b0"
      },
      "source": [
        "master_data.plot.scatter(x='accr_x', y='accr_y', c='label', colormap='viridis')"
      ],
      "execution_count": 20,
      "outputs": [
        {
          "output_type": "execute_result",
          "data": {
            "text/plain": [
              "<matplotlib.axes._subplots.AxesSubplot at 0x7f9e310c2490>"
            ]
          },
          "metadata": {
            "tags": []
          },
          "execution_count": 20
        },
        {
          "output_type": "display_data",
          "data": {
            "image/png": "[encoded data removed]",
            "text/plain": [
              "<Figure size 432x288 with 2 Axes>"
            ]
          },
          "metadata": {
            "tags": [],
            "needs_background": "light"
          }
        }
      ]
    },
    {
      "cell_type": "code",
      "metadata": {
        "id": "MsUbcC7cEf7r",
        "colab": {
          "base_uri": "https://localhost:8080/"
        },
        "outputId": "9514546c-edfc-4589-eec6-ca24666e57ba"
      },
      "source": [
        "len(master_data)\n",
        "master_data[\"label\"].value_counts()"
      ],
      "execution_count": 16,
      "outputs": [
        {
          "output_type": "execute_result",
          "data": {
            "text/plain": [
              "0.0    1258659\n",
              "3.0     258045\n",
              "2.0      91335\n",
              "1.0      69020\n",
              "Name: label, dtype: int64"
            ]
          },
          "metadata": {
            "tags": []
          },
          "execution_count": 16
        }
      ]
    },
    {
      "cell_type": "code",
      "metadata": {
        "id": "AbF_UWOLEf7s"
      },
      "source": [
        "#master_data.to_csv (r'C:\\Users\\ashnayak\\Desktop\\NCSU\\NCSU Neural Nets\\Project C\\ECE542_sp2021_Project_TerrainRecognition\\Ash\\merged_ADS_Ash_v2_6attributes.csv', index = False, header=True)"
      ],
      "execution_count": 17,
      "outputs": []
    },
    {
      "cell_type": "code",
      "metadata": {
        "id": "1Xm2TgNoEf7s"
      },
      "source": [
        "X = master_data.drop(\"label\", axis=1)\n",
        "y = master_data[\"label\"]"
      ],
      "execution_count": 18,
      "outputs": []
    },
    {
      "cell_type": "code",
      "metadata": {
        "id": "15QhVaqVEf7t"
      },
      "source": [
        "# counter = Counter(y)\n",
        "# print(counter)\n",
        "\n",
        "# oversample = SMOTE()\n",
        "# Xsmote, Ysmote = oversample.fit_resample(X, y)\n",
        "\n",
        "# counter = Counter(Ysmote)\n",
        "# print(counter)"
      ],
      "execution_count": null,
      "outputs": []
    },
    {
      "cell_type": "code",
      "metadata": {
        "id": "5nXY5xSSEf7t"
      },
      "source": [
        "from sklearn.model_selection import train_test_split\n",
        "# implementing train-test-split\n",
        "X_train, X_test, y_train, y_test = train_test_split(X, y, test_size=0.33, random_state=66)"
      ],
      "execution_count": 27,
      "outputs": []
    },
    {
      "cell_type": "code",
      "metadata": {
        "colab": {
          "base_uri": "https://localhost:8080/"
        },
        "id": "ZQL8I8OPDOEa",
        "outputId": "e0a3a63e-0118-4c1c-d5e6-284c8f8fdf18"
      },
      "source": [
        "# define the undersampling method\n",
        "undersample = NearMiss(version=3, n_neighbors_ver3=3)\n",
        "# transform the dataset\n",
        "X_1, y_1 = undersample.fit_resample(X_train, y_train)"
      ],
      "execution_count": 28,
      "outputs": [
        {
          "output_type": "stream",
          "text": [
            "/usr/local/lib/python3.7/dist-packages/sklearn/utils/deprecation.py:87: FutureWarning: Function safe_indexing is deprecated; safe_indexing is deprecated in version 0.22 and will be removed in version 0.24.\n",
            "  warnings.warn(msg, category=FutureWarning)\n",
            "/usr/local/lib/python3.7/dist-packages/sklearn/utils/deprecation.py:87: FutureWarning: Function safe_indexing is deprecated; safe_indexing is deprecated in version 0.22 and will be removed in version 0.24.\n",
            "  warnings.warn(msg, category=FutureWarning)\n",
            "/usr/local/lib/python3.7/dist-packages/sklearn/utils/deprecation.py:87: FutureWarning: Function safe_indexing is deprecated; safe_indexing is deprecated in version 0.22 and will be removed in version 0.24.\n",
            "  warnings.warn(msg, category=FutureWarning)\n",
            "/usr/local/lib/python3.7/dist-packages/sklearn/utils/deprecation.py:87: FutureWarning: Function safe_indexing is deprecated; safe_indexing is deprecated in version 0.22 and will be removed in version 0.24.\n",
            "  warnings.warn(msg, category=FutureWarning)\n",
            "/usr/local/lib/python3.7/dist-packages/sklearn/utils/deprecation.py:87: FutureWarning: Function safe_indexing is deprecated; safe_indexing is deprecated in version 0.22 and will be removed in version 0.24.\n",
            "  warnings.warn(msg, category=FutureWarning)\n",
            "/usr/local/lib/python3.7/dist-packages/sklearn/utils/deprecation.py:87: FutureWarning: Function safe_indexing is deprecated; safe_indexing is deprecated in version 0.22 and will be removed in version 0.24.\n",
            "  warnings.warn(msg, category=FutureWarning)\n",
            "/usr/local/lib/python3.7/dist-packages/sklearn/utils/deprecation.py:87: FutureWarning: Function safe_indexing is deprecated; safe_indexing is deprecated in version 0.22 and will be removed in version 0.24.\n",
            "  warnings.warn(msg, category=FutureWarning)\n",
            "/usr/local/lib/python3.7/dist-packages/sklearn/utils/deprecation.py:87: FutureWarning: Function safe_indexing is deprecated; safe_indexing is deprecated in version 0.22 and will be removed in version 0.24.\n",
            "  warnings.warn(msg, category=FutureWarning)\n",
            "/usr/local/lib/python3.7/dist-packages/imblearn/under_sampling/_prototype_selection/_nearmiss.py:194: UserWarning: The number of the samples to be selected is larger than the number of samples available. The balancing ratio cannot be ensure and all samples will be returned.\n",
            "  warnings.warn('The number of the samples to be selected is larger'\n",
            "/usr/local/lib/python3.7/dist-packages/sklearn/utils/deprecation.py:87: FutureWarning: Function safe_indexing is deprecated; safe_indexing is deprecated in version 0.22 and will be removed in version 0.24.\n",
            "  warnings.warn(msg, category=FutureWarning)\n",
            "/usr/local/lib/python3.7/dist-packages/sklearn/utils/deprecation.py:87: FutureWarning: Function safe_indexing is deprecated; safe_indexing is deprecated in version 0.22 and will be removed in version 0.24.\n",
            "  warnings.warn(msg, category=FutureWarning)\n",
            "/usr/local/lib/python3.7/dist-packages/sklearn/utils/deprecation.py:87: FutureWarning: Function safe_indexing is deprecated; safe_indexing is deprecated in version 0.22 and will be removed in version 0.24.\n",
            "  warnings.warn(msg, category=FutureWarning)\n"
          ],
          "name": "stderr"
        }
      ]
    },
    {
      "cell_type": "code",
      "metadata": {
        "id": "0pFKaKkfEf7u"
      },
      "source": [
        "# counter = Counter(y_train)\n",
        "# print(counter)\n",
        "\n",
        "# oversample = SMOTE()\n",
        "# Xsmote, Ysmote = oversample.fit_resample(X_train, y_train)\n",
        "\n",
        "# counter = Counter(Ysmote)\n",
        "# print(counter)"
      ],
      "execution_count": 29,
      "outputs": []
    },
    {
      "cell_type": "code",
      "metadata": {
        "id": "i9OH7nuFEf7u"
      },
      "source": [
        "from sklearn import model_selection\n",
        "from sklearn.ensemble import RandomForestClassifier\n",
        "# random forest model creation\n",
        "rfc = RandomForestClassifier()\n",
        "rfc.fit(X_1,y_1)\n",
        "# predictions\n",
        "rfc_predict = rfc.predict(X_test)"
      ],
      "execution_count": 31,
      "outputs": []
    },
    {
      "cell_type": "code",
      "metadata": {
        "id": "VFTXfYCJEf7v"
      },
      "source": [
        "def nn_interpolate(A, new_size):\n",
        "    \"\"\"Vectorized Nearest Neighbor Interpolation\"\"\"\n",
        "\n",
        "    old_size = A.shape\n",
        "    row_ratio, col_ratio = np.array(new_size) / np.array(old_size)\n",
        "\n",
        "    # row wise interpolation\n",
        "    row_idx = (np.ceil(range(1, 1 + int(old_size[0] * row_ratio)) / row_ratio) - 1).astype(int)\n",
        "\n",
        "    final_matrix = A[row_idx]\n",
        "\n",
        "    return final_matrix"
      ],
      "execution_count": 47,
      "outputs": []
    },
    {
      "cell_type": "code",
      "metadata": {
        "id": "uzPUs8VoEf7v"
      },
      "source": [
        "from sklearn.model_selection import cross_val_score\n",
        "from sklearn.metrics import classification_report, confusion_matrix"
      ],
      "execution_count": 34,
      "outputs": []
    },
    {
      "cell_type": "code",
      "metadata": {
        "id": "Fm8sv5T4Ef7w"
      },
      "source": [
        "#rfc_cv_score = cross_val_score(rfc, X, y, cv=3, scoring=\"roc_auc\")"
      ],
      "execution_count": null,
      "outputs": []
    },
    {
      "cell_type": "code",
      "metadata": {
        "id": "yS4UTVJOEf7w",
        "colab": {
          "base_uri": "https://localhost:8080/"
        },
        "outputId": "2a68d795-4dbc-48ab-8b04-fbaaa86ddddd"
      },
      "source": [
        "print(\"=== Confusion Matrix ===\")\n",
        "print(confusion_matrix(y_test, rfc_predict))\n",
        "print('\\n')\n",
        "print(\"=== Classification Report ===\")\n",
        "print(classification_report(y_test, rfc_predict))\n",
        "print('\\n')\n",
        "print(\"=== All AUC Scores ===\")\n",
        "#print(rfc_cv_score)\n",
        "#print('\\n')\n",
        "# print(\"=== Mean AUC Score ===\")\n",
        "# print(\"Mean AUC Score - Random Forest: \", rfc_cv_score.mean())"
      ],
      "execution_count": 35,
      "outputs": [
        {
          "output_type": "stream",
          "text": [
            "=== Confusion Matrix ===\n",
            "[[115533  38032  66866 194739]\n",
            " [  4780  12537   1433   3751]\n",
            " [  2170   1433  24592   1972]\n",
            " [ 15781   7940   6333  55538]]\n",
            "\n",
            "\n",
            "=== Classification Report ===\n",
            "              precision    recall  f1-score   support\n",
            "\n",
            "         0.0       0.84      0.28      0.42    415170\n",
            "         1.0       0.21      0.56      0.30     22501\n",
            "         2.0       0.25      0.82      0.38     30167\n",
            "         3.0       0.22      0.65      0.33     85592\n",
            "\n",
            "    accuracy                           0.38    553430\n",
            "   macro avg       0.38      0.57      0.36    553430\n",
            "weighted avg       0.68      0.38      0.40    553430\n",
            "\n",
            "\n",
            "\n",
            "=== All AUC Scores ===\n"
          ],
          "name": "stdout"
        }
      ]
    },
    {
      "cell_type": "code",
      "metadata": {
        "colab": {
          "base_uri": "https://localhost:8080/"
        },
        "id": "WiPZNLPTEJKq",
        "outputId": "78974a69-82ea-4d22-d075-5f8b881701cb"
      },
      "source": [
        "cd .."
      ],
      "execution_count": 39,
      "outputs": [
        {
          "output_type": "stream",
          "text": [
            "/content/gdrive/My Drive/Google_Colab\n"
          ],
          "name": "stdout"
        }
      ]
    },
    {
      "cell_type": "code",
      "metadata": {
        "colab": {
          "base_uri": "https://localhost:8080/"
        },
        "id": "jXpyQfhhEhKm",
        "outputId": "0821a8d6-1836-42f0-8cae-19f80609e236"
      },
      "source": [
        "cd 'TestData'"
      ],
      "execution_count": 41,
      "outputs": [
        {
          "output_type": "stream",
          "text": [
            "/content/gdrive/My Drive/Google_Colab/TestData\n"
          ],
          "name": "stdout"
        }
      ]
    },
    {
      "cell_type": "code",
      "metadata": {
        "id": "yjqw5MnpEf7x",
        "colab": {
          "base_uri": "https://localhost:8080/",
          "height": 204
        },
        "outputId": "83ea4478-1b77-4171-e218-01202340dce9"
      },
      "source": [
        "testingX_009 = pd.read_csv(\"subject_009_01__x.csv\", names=['accr_x', 'accr_y','accr_z','gyr_x','gyr_y','gyr_z'])\n",
        "testingX_time_009 = pd.read_csv(\"subject_009_01__x_time.csv\", names = [\"x_time\"])\n",
        "testingY_time_009 = pd.read_csv(\"subject_009_01__y_time.csv\", names = [\"time\"])\n",
        "testingY_time_009.head()"
      ],
      "execution_count": 69,
      "outputs": [
        {
          "output_type": "execute_result",
          "data": {
            "text/html": [
              "<div>\n",
              "<style scoped>\n",
              "    .dataframe tbody tr th:only-of-type {\n",
              "        vertical-align: middle;\n",
              "    }\n",
              "\n",
              "    .dataframe tbody tr th {\n",
              "        vertical-align: top;\n",
              "    }\n",
              "\n",
              "    .dataframe thead th {\n",
              "        text-align: right;\n",
              "    }\n",
              "</style>\n",
              "<table border=\"1\" class=\"dataframe\">\n",
              "  <thead>\n",
              "    <tr style=\"text-align: right;\">\n",
              "      <th></th>\n",
              "      <th>time</th>\n",
              "    </tr>\n",
              "  </thead>\n",
              "  <tbody>\n",
              "    <tr>\n",
              "      <th>0</th>\n",
              "      <td>0.02</td>\n",
              "    </tr>\n",
              "    <tr>\n",
              "      <th>1</th>\n",
              "      <td>0.12</td>\n",
              "    </tr>\n",
              "    <tr>\n",
              "      <th>2</th>\n",
              "      <td>0.22</td>\n",
              "    </tr>\n",
              "    <tr>\n",
              "      <th>3</th>\n",
              "      <td>0.32</td>\n",
              "    </tr>\n",
              "    <tr>\n",
              "      <th>4</th>\n",
              "      <td>0.42</td>\n",
              "    </tr>\n",
              "  </tbody>\n",
              "</table>\n",
              "</div>"
            ],
            "text/plain": [
              "   time\n",
              "0  0.02\n",
              "1  0.12\n",
              "2  0.22\n",
              "3  0.32\n",
              "4  0.42"
            ]
          },
          "metadata": {
            "tags": []
          },
          "execution_count": 69
        }
      ]
    },
    {
      "cell_type": "code",
      "metadata": {
        "id": "zRFT8rvsEf7y",
        "colab": {
          "base_uri": "https://localhost:8080/",
          "height": 235
        },
        "outputId": "4940712b-9c1e-425b-f3f4-ef220c198776"
      },
      "source": [
        "x_data = testingX_009\n",
        "y_time = testingY_time_009\n",
        "x_data[\"time\"] = x_time[\"x_time\"]  \n",
        "\n",
        "data = x_data.merge(y_time,how=\"outer\", on = \"time\")\n",
        "data.sort_values(\"time\", inplace =True)\n",
        "data['drop_flag'] = data[\"accr_x\"].isnull()\n",
        "data = data.interpolate()\n",
        "\n",
        "data = data[data[\"drop_flag\"]]\n",
        "data.drop(\"drop_flag\", inplace = True,axis = 1)\n",
        "data.head(20)\n",
        "#len(data)\n",
        "\n",
        "\n",
        "# temp = data - data.shift(1)\n",
        "# temp = temp.fillna(0)\n",
        "# temp.columns = [x + \"delta1\" for x in temp.columns]\n",
        "# data = pd.concat([data,temp],axis=1)\n",
        "data.set_index([\"time\"], inplace = True)\n",
        "# master_data_y.set_index([\"subject\",\"time\"], inplace = True)\n",
        "data.head()\n",
        "# len(master_data)"
      ],
      "execution_count": 70,
      "outputs": [
        {
          "output_type": "execute_result",
          "data": {
            "text/html": [
              "<div>\n",
              "<style scoped>\n",
              "    .dataframe tbody tr th:only-of-type {\n",
              "        vertical-align: middle;\n",
              "    }\n",
              "\n",
              "    .dataframe tbody tr th {\n",
              "        vertical-align: top;\n",
              "    }\n",
              "\n",
              "    .dataframe thead th {\n",
              "        text-align: right;\n",
              "    }\n",
              "</style>\n",
              "<table border=\"1\" class=\"dataframe\">\n",
              "  <thead>\n",
              "    <tr style=\"text-align: right;\">\n",
              "      <th></th>\n",
              "      <th>accr_x</th>\n",
              "      <th>accr_y</th>\n",
              "      <th>accr_z</th>\n",
              "      <th>gyr_x</th>\n",
              "      <th>gyr_y</th>\n",
              "      <th>gyr_z</th>\n",
              "    </tr>\n",
              "    <tr>\n",
              "      <th>time</th>\n",
              "      <th></th>\n",
              "      <th></th>\n",
              "      <th></th>\n",
              "      <th></th>\n",
              "      <th></th>\n",
              "      <th></th>\n",
              "    </tr>\n",
              "  </thead>\n",
              "  <tbody>\n",
              "    <tr>\n",
              "      <th>0.02</th>\n",
              "      <td>0.405320</td>\n",
              "      <td>8.708449</td>\n",
              "      <td>-4.466125</td>\n",
              "      <td>0.000556</td>\n",
              "      <td>-0.005863</td>\n",
              "      <td>0.005649</td>\n",
              "    </tr>\n",
              "    <tr>\n",
              "      <th>0.12</th>\n",
              "      <td>0.492617</td>\n",
              "      <td>8.715558</td>\n",
              "      <td>-4.495296</td>\n",
              "      <td>0.000102</td>\n",
              "      <td>0.006652</td>\n",
              "      <td>0.006952</td>\n",
              "    </tr>\n",
              "    <tr>\n",
              "      <th>0.22</th>\n",
              "      <td>0.455268</td>\n",
              "      <td>8.716808</td>\n",
              "      <td>-4.487077</td>\n",
              "      <td>0.001029</td>\n",
              "      <td>0.005111</td>\n",
              "      <td>0.003036</td>\n",
              "    </tr>\n",
              "    <tr>\n",
              "      <th>0.32</th>\n",
              "      <td>0.464851</td>\n",
              "      <td>8.709219</td>\n",
              "      <td>-4.460000</td>\n",
              "      <td>-0.000370</td>\n",
              "      <td>0.003656</td>\n",
              "      <td>0.003656</td>\n",
              "    </tr>\n",
              "    <tr>\n",
              "      <th>0.42</th>\n",
              "      <td>0.458229</td>\n",
              "      <td>8.712744</td>\n",
              "      <td>-4.476527</td>\n",
              "      <td>0.002437</td>\n",
              "      <td>0.001799</td>\n",
              "      <td>0.002459</td>\n",
              "    </tr>\n",
              "  </tbody>\n",
              "</table>\n",
              "</div>"
            ],
            "text/plain": [
              "        accr_x    accr_y    accr_z     gyr_x     gyr_y     gyr_z\n",
              "time                                                            \n",
              "0.02  0.405320  8.708449 -4.466125  0.000556 -0.005863  0.005649\n",
              "0.12  0.492617  8.715558 -4.495296  0.000102  0.006652  0.006952\n",
              "0.22  0.455268  8.716808 -4.487077  0.001029  0.005111  0.003036\n",
              "0.32  0.464851  8.709219 -4.460000 -0.000370  0.003656  0.003656\n",
              "0.42  0.458229  8.712744 -4.476527  0.002437  0.001799  0.002459"
            ]
          },
          "metadata": {
            "tags": []
          },
          "execution_count": 70
        }
      ]
    },
    {
      "cell_type": "code",
      "metadata": {
        "id": "k6md43KYEf7z",
        "colab": {
          "base_uri": "https://localhost:8080/",
          "height": 51
        },
        "outputId": "8ef8a7ff-0869-4423-a6de-584fcd4db7cc"
      },
      "source": [
        "import numpy as np\n",
        "y_pred_009 = rfc.predict(data)\n",
        "\n",
        "print(y_pred_009.shape)\n",
        "validationX_009 = pd.read_csv(\"subject_009_01__y_time.csv\", header=None)\n",
        "\n",
        "interpolated_data_009 = nn_interpolate(y_pred_009, (validationX_009.shape[0], validationX_009.shape[1]))\n",
        "print(interpolated_data_009.shape)\n",
        "\n",
        "sub009df = pd.DataFrame()\n",
        "sub009df[\"y_pred\"] = interpolated_data_009\n",
        "sub009df.y_pred.value_counts()\n",
        "sub009df.to_csv('subject_009_01__y_prediction.csv') \n",
        "files.download('subject_009_01__y_prediction.csv')\n",
        "#sub009df.to_csv (r'C:\\Users\\ashnayak\\Desktop\\NCSU\\NCSU Neural Nets\\Project C\\ECE542_sp2021_Project_TerrainRecognition\\Ash\\subject_009_01__y_prediction.csv', index = False, header=True)\n"
      ],
      "execution_count": 72,
      "outputs": [
        {
          "output_type": "stream",
          "text": [
            "(9498,)\n",
            "(9498,)\n"
          ],
          "name": "stdout"
        },
        {
          "output_type": "display_data",
          "data": {
            "application/javascript": [
              "\n",
              "    async function download(id, filename, size) {\n",
              "      if (!google.colab.kernel.accessAllowed) {\n",
              "        return;\n",
              "      }\n",
              "      const div = document.createElement('div');\n",
              "      const label = document.createElement('label');\n",
              "      label.textContent = `Downloading \"${filename}\": `;\n",
              "      div.appendChild(label);\n",
              "      const progress = document.createElement('progress');\n",
              "      progress.max = size;\n",
              "      div.appendChild(progress);\n",
              "      document.body.appendChild(div);\n",
              "\n",
              "      const buffers = [];\n",
              "      let downloaded = 0;\n",
              "\n",
              "      const channel = await google.colab.kernel.comms.open(id);\n",
              "      // Send a message to notify the kernel that we're ready.\n",
              "      channel.send({})\n",
              "\n",
              "      for await (const message of channel.messages) {\n",
              "        // Send a message to notify the kernel that we're ready.\n",
              "        channel.send({})\n",
              "        if (message.buffers) {\n",
              "          for (const buffer of message.buffers) {\n",
              "            buffers.push(buffer);\n",
              "            downloaded += buffer.byteLength;\n",
              "            progress.value = downloaded;\n",
              "          }\n",
              "        }\n",
              "      }\n",
              "      const blob = new Blob(buffers, {type: 'application/binary'});\n",
              "      const a = document.createElement('a');\n",
              "      a.href = window.URL.createObjectURL(blob);\n",
              "      a.download = filename;\n",
              "      div.appendChild(a);\n",
              "      a.click();\n",
              "      div.remove();\n",
              "    }\n",
              "  "
            ],
            "text/plain": [
              "<IPython.core.display.Javascript object>"
            ]
          },
          "metadata": {
            "tags": []
          }
        },
        {
          "output_type": "display_data",
          "data": {
            "application/javascript": [
              "download(\"download_881076ee-c681-412a-a126-5ad663487eaa\", \"subject_009_01__y_prediction.csv\", 84380)"
            ],
            "text/plain": [
              "<IPython.core.display.Javascript object>"
            ]
          },
          "metadata": {
            "tags": []
          }
        }
      ]
    },
    {
      "cell_type": "code",
      "metadata": {
        "id": "qEPWqsboEf70",
        "colab": {
          "base_uri": "https://localhost:8080/",
          "height": 204
        },
        "outputId": "22882f28-9b11-4cdc-ee94-1c44224e9be1"
      },
      "source": [
        "testingX_010 = pd.read_csv(\"subject_010_01__x.csv\", names=['accr_x', 'accr_y','accr_z','gyr_x','gyr_y','gyr_z'])\n",
        "testingX_time_010 = pd.read_csv(\"subject_010_01__x_time.csv\", names = [\"x_time\"])\n",
        "testingY_time_010 = pd.read_csv(\"subject_010_01__y_time.csv\", names = [\"time\"])\n",
        "testingY_time_010.head()"
      ],
      "execution_count": 73,
      "outputs": [
        {
          "output_type": "execute_result",
          "data": {
            "text/html": [
              "<div>\n",
              "<style scoped>\n",
              "    .dataframe tbody tr th:only-of-type {\n",
              "        vertical-align: middle;\n",
              "    }\n",
              "\n",
              "    .dataframe tbody tr th {\n",
              "        vertical-align: top;\n",
              "    }\n",
              "\n",
              "    .dataframe thead th {\n",
              "        text-align: right;\n",
              "    }\n",
              "</style>\n",
              "<table border=\"1\" class=\"dataframe\">\n",
              "  <thead>\n",
              "    <tr style=\"text-align: right;\">\n",
              "      <th></th>\n",
              "      <th>time</th>\n",
              "    </tr>\n",
              "  </thead>\n",
              "  <tbody>\n",
              "    <tr>\n",
              "      <th>0</th>\n",
              "      <td>0.02</td>\n",
              "    </tr>\n",
              "    <tr>\n",
              "      <th>1</th>\n",
              "      <td>0.12</td>\n",
              "    </tr>\n",
              "    <tr>\n",
              "      <th>2</th>\n",
              "      <td>0.22</td>\n",
              "    </tr>\n",
              "    <tr>\n",
              "      <th>3</th>\n",
              "      <td>0.32</td>\n",
              "    </tr>\n",
              "    <tr>\n",
              "      <th>4</th>\n",
              "      <td>0.42</td>\n",
              "    </tr>\n",
              "  </tbody>\n",
              "</table>\n",
              "</div>"
            ],
            "text/plain": [
              "   time\n",
              "0  0.02\n",
              "1  0.12\n",
              "2  0.22\n",
              "3  0.32\n",
              "4  0.42"
            ]
          },
          "metadata": {
            "tags": []
          },
          "execution_count": 73
        }
      ]
    },
    {
      "cell_type": "code",
      "metadata": {
        "id": "Jia503idEf70",
        "colab": {
          "base_uri": "https://localhost:8080/",
          "height": 235
        },
        "outputId": "82366a91-4900-4c15-99ba-290d3786f542"
      },
      "source": [
        "x_data = testingX_010\n",
        "y_time = testingY_time_010\n",
        "x_data[\"time\"] = x_time[\"x_time\"]  \n",
        "\n",
        "data = x_data.merge(y_time,how=\"outer\", on = \"time\")\n",
        "data.sort_values(\"time\", inplace =True)\n",
        "data['drop_flag'] = data[\"accr_x\"].isnull()\n",
        "data = data.interpolate()\n",
        "\n",
        "data = data[data[\"drop_flag\"]]\n",
        "data.drop(\"drop_flag\", inplace = True,axis = 1)\n",
        "data.head(20)\n",
        "#len(data)\n",
        "\n",
        "\n",
        "# temp = data - data.shift(1)\n",
        "# temp = temp.fillna(0)\n",
        "# temp.columns = [x + \"delta1\" for x in temp.columns]\n",
        "# data = pd.concat([data,temp],axis=1)\n",
        "data.set_index([\"time\"], inplace = True)\n",
        "# master_data_y.set_index([\"subject\",\"time\"], inplace = True)\n",
        "data.head()\n",
        "# len(master_data)"
      ],
      "execution_count": 74,
      "outputs": [
        {
          "output_type": "execute_result",
          "data": {
            "text/html": [
              "<div>\n",
              "<style scoped>\n",
              "    .dataframe tbody tr th:only-of-type {\n",
              "        vertical-align: middle;\n",
              "    }\n",
              "\n",
              "    .dataframe tbody tr th {\n",
              "        vertical-align: top;\n",
              "    }\n",
              "\n",
              "    .dataframe thead th {\n",
              "        text-align: right;\n",
              "    }\n",
              "</style>\n",
              "<table border=\"1\" class=\"dataframe\">\n",
              "  <thead>\n",
              "    <tr style=\"text-align: right;\">\n",
              "      <th></th>\n",
              "      <th>accr_x</th>\n",
              "      <th>accr_y</th>\n",
              "      <th>accr_z</th>\n",
              "      <th>gyr_x</th>\n",
              "      <th>gyr_y</th>\n",
              "      <th>gyr_z</th>\n",
              "    </tr>\n",
              "    <tr>\n",
              "      <th>time</th>\n",
              "      <th></th>\n",
              "      <th></th>\n",
              "      <th></th>\n",
              "      <th></th>\n",
              "      <th></th>\n",
              "      <th></th>\n",
              "    </tr>\n",
              "  </thead>\n",
              "  <tbody>\n",
              "    <tr>\n",
              "      <th>0.02</th>\n",
              "      <td>1.638187</td>\n",
              "      <td>9.649387</td>\n",
              "      <td>0.218060</td>\n",
              "      <td>-0.000485</td>\n",
              "      <td>-0.001431</td>\n",
              "      <td>-0.012855</td>\n",
              "    </tr>\n",
              "    <tr>\n",
              "      <th>0.12</th>\n",
              "      <td>1.586369</td>\n",
              "      <td>9.642326</td>\n",
              "      <td>0.216732</td>\n",
              "      <td>-0.001636</td>\n",
              "      <td>-0.006556</td>\n",
              "      <td>-0.006438</td>\n",
              "    </tr>\n",
              "    <tr>\n",
              "      <th>0.22</th>\n",
              "      <td>1.610607</td>\n",
              "      <td>9.639363</td>\n",
              "      <td>0.228534</td>\n",
              "      <td>0.001169</td>\n",
              "      <td>-0.000148</td>\n",
              "      <td>-0.004423</td>\n",
              "    </tr>\n",
              "    <tr>\n",
              "      <th>0.32</th>\n",
              "      <td>1.579946</td>\n",
              "      <td>9.643832</td>\n",
              "      <td>0.222473</td>\n",
              "      <td>-0.000012</td>\n",
              "      <td>-0.002273</td>\n",
              "      <td>-0.000363</td>\n",
              "    </tr>\n",
              "    <tr>\n",
              "      <th>0.42</th>\n",
              "      <td>1.554924</td>\n",
              "      <td>9.653587</td>\n",
              "      <td>0.242527</td>\n",
              "      <td>-0.001563</td>\n",
              "      <td>0.003750</td>\n",
              "      <td>0.003889</td>\n",
              "    </tr>\n",
              "  </tbody>\n",
              "</table>\n",
              "</div>"
            ],
            "text/plain": [
              "        accr_x    accr_y    accr_z     gyr_x     gyr_y     gyr_z\n",
              "time                                                            \n",
              "0.02  1.638187  9.649387  0.218060 -0.000485 -0.001431 -0.012855\n",
              "0.12  1.586369  9.642326  0.216732 -0.001636 -0.006556 -0.006438\n",
              "0.22  1.610607  9.639363  0.228534  0.001169 -0.000148 -0.004423\n",
              "0.32  1.579946  9.643832  0.222473 -0.000012 -0.002273 -0.000363\n",
              "0.42  1.554924  9.653587  0.242527 -0.001563  0.003750  0.003889"
            ]
          },
          "metadata": {
            "tags": []
          },
          "execution_count": 74
        }
      ]
    },
    {
      "cell_type": "code",
      "metadata": {
        "id": "4M49tlm6Ef71",
        "colab": {
          "base_uri": "https://localhost:8080/",
          "height": 51
        },
        "outputId": "24673bd9-f9f7-41af-c7e4-b930e20284f3"
      },
      "source": [
        "import numpy as np\n",
        "y_pred_010 = rfc.predict(data)\n",
        "\n",
        "print(y_pred_010.shape)\n",
        "validationX_010 = pd.read_csv(\"subject_010_01__y_time.csv\", header=None)\n",
        "\n",
        "interpolated_data_010 = nn_interpolate(y_pred_010, (validationX_010.shape[0], validationX_010.shape[1]))\n",
        "print(interpolated_data_010.shape)\n",
        "\n",
        "sub010df = pd.DataFrame()\n",
        "sub010df[\"y_pred\"] = interpolated_data_010\n",
        "sub010df.y_pred.value_counts()\n",
        "sub010df.to_csv('subject_010_01__y_prediction.csv') \n",
        "files.download('subject_010_01__y_prediction.csv')\n",
        "#sub010df.to_csv (r'C:\\Users\\ashnayak\\Desktop\\NCSU\\NCSU Neural Nets\\Project C\\ECE542_sp2021_Project_TerrainRecognition\\Ash\\subject_010_01__y_prediction.csv', index = False, header=True)\n"
      ],
      "execution_count": 75,
      "outputs": [
        {
          "output_type": "stream",
          "text": [
            "(12270,)\n",
            "(12270,)\n"
          ],
          "name": "stdout"
        },
        {
          "output_type": "display_data",
          "data": {
            "application/javascript": [
              "\n",
              "    async function download(id, filename, size) {\n",
              "      if (!google.colab.kernel.accessAllowed) {\n",
              "        return;\n",
              "      }\n",
              "      const div = document.createElement('div');\n",
              "      const label = document.createElement('label');\n",
              "      label.textContent = `Downloading \"${filename}\": `;\n",
              "      div.appendChild(label);\n",
              "      const progress = document.createElement('progress');\n",
              "      progress.max = size;\n",
              "      div.appendChild(progress);\n",
              "      document.body.appendChild(div);\n",
              "\n",
              "      const buffers = [];\n",
              "      let downloaded = 0;\n",
              "\n",
              "      const channel = await google.colab.kernel.comms.open(id);\n",
              "      // Send a message to notify the kernel that we're ready.\n",
              "      channel.send({})\n",
              "\n",
              "      for await (const message of channel.messages) {\n",
              "        // Send a message to notify the kernel that we're ready.\n",
              "        channel.send({})\n",
              "        if (message.buffers) {\n",
              "          for (const buffer of message.buffers) {\n",
              "            buffers.push(buffer);\n",
              "            downloaded += buffer.byteLength;\n",
              "            progress.value = downloaded;\n",
              "          }\n",
              "        }\n",
              "      }\n",
              "      const blob = new Blob(buffers, {type: 'application/binary'});\n",
              "      const a = document.createElement('a');\n",
              "      a.href = window.URL.createObjectURL(blob);\n",
              "      a.download = filename;\n",
              "      div.appendChild(a);\n",
              "      a.click();\n",
              "      div.remove();\n",
              "    }\n",
              "  "
            ],
            "text/plain": [
              "<IPython.core.display.Javascript object>"
            ]
          },
          "metadata": {
            "tags": []
          }
        },
        {
          "output_type": "display_data",
          "data": {
            "application/javascript": [
              "download(\"download_fc7bb591-f492-4e68-be2d-d8cf5b4b078d\", \"subject_010_01__y_prediction.csv\", 111598)"
            ],
            "text/plain": [
              "<IPython.core.display.Javascript object>"
            ]
          },
          "metadata": {
            "tags": []
          }
        }
      ]
    },
    {
      "cell_type": "code",
      "metadata": {
        "id": "aQNCwlCKEf72",
        "colab": {
          "base_uri": "https://localhost:8080/",
          "height": 204
        },
        "outputId": "c73cb59e-7b97-4def-c0cc-9150c656e673"
      },
      "source": [
        "testingX_011 = pd.read_csv(\"subject_011_01__x.csv\", names=['accr_x', 'accr_y','accr_z','gyr_x','gyr_y','gyr_z'])\n",
        "testingX_time_011 = pd.read_csv(\"subject_011_01__x_time.csv\", names = [\"x_time\"])\n",
        "testingY_time_011 = pd.read_csv(\"subject_011_01__y_time.csv\", names = [\"time\"])\n",
        "testingY_time_011.head()"
      ],
      "execution_count": 76,
      "outputs": [
        {
          "output_type": "execute_result",
          "data": {
            "text/html": [
              "<div>\n",
              "<style scoped>\n",
              "    .dataframe tbody tr th:only-of-type {\n",
              "        vertical-align: middle;\n",
              "    }\n",
              "\n",
              "    .dataframe tbody tr th {\n",
              "        vertical-align: top;\n",
              "    }\n",
              "\n",
              "    .dataframe thead th {\n",
              "        text-align: right;\n",
              "    }\n",
              "</style>\n",
              "<table border=\"1\" class=\"dataframe\">\n",
              "  <thead>\n",
              "    <tr style=\"text-align: right;\">\n",
              "      <th></th>\n",
              "      <th>time</th>\n",
              "    </tr>\n",
              "  </thead>\n",
              "  <tbody>\n",
              "    <tr>\n",
              "      <th>0</th>\n",
              "      <td>0.02</td>\n",
              "    </tr>\n",
              "    <tr>\n",
              "      <th>1</th>\n",
              "      <td>0.12</td>\n",
              "    </tr>\n",
              "    <tr>\n",
              "      <th>2</th>\n",
              "      <td>0.22</td>\n",
              "    </tr>\n",
              "    <tr>\n",
              "      <th>3</th>\n",
              "      <td>0.32</td>\n",
              "    </tr>\n",
              "    <tr>\n",
              "      <th>4</th>\n",
              "      <td>0.42</td>\n",
              "    </tr>\n",
              "  </tbody>\n",
              "</table>\n",
              "</div>"
            ],
            "text/plain": [
              "   time\n",
              "0  0.02\n",
              "1  0.12\n",
              "2  0.22\n",
              "3  0.32\n",
              "4  0.42"
            ]
          },
          "metadata": {
            "tags": []
          },
          "execution_count": 76
        }
      ]
    },
    {
      "cell_type": "code",
      "metadata": {
        "id": "0mkYLd0HEf73",
        "colab": {
          "base_uri": "https://localhost:8080/",
          "height": 235
        },
        "outputId": "14a39b7c-122c-4771-f7f5-4966229746ca"
      },
      "source": [
        "x_data = testingX_011\n",
        "y_time = testingY_time_011\n",
        "x_data[\"time\"] = x_time[\"x_time\"]  \n",
        "\n",
        "data = x_data.merge(y_time,how=\"outer\", on = \"time\")\n",
        "data.sort_values(\"time\", inplace =True)\n",
        "data['drop_flag'] = data[\"accr_x\"].isnull()\n",
        "data = data.interpolate()\n",
        "\n",
        "data = data[data[\"drop_flag\"]]\n",
        "data.drop(\"drop_flag\", inplace = True,axis = 1)\n",
        "data.head(20)\n",
        "#len(data)\n",
        "\n",
        "\n",
        "# temp = data - data.shift(1)\n",
        "# temp = temp.fillna(0)\n",
        "# temp.columns = [x + \"delta1\" for x in temp.columns]\n",
        "# data = pd.concat([data,temp],axis=1)\n",
        "data.set_index([\"time\"], inplace = True)\n",
        "# master_data_y.set_index([\"subject\",\"time\"], inplace = True)\n",
        "data.head()\n",
        "# len(master_data)"
      ],
      "execution_count": 77,
      "outputs": [
        {
          "output_type": "execute_result",
          "data": {
            "text/html": [
              "<div>\n",
              "<style scoped>\n",
              "    .dataframe tbody tr th:only-of-type {\n",
              "        vertical-align: middle;\n",
              "    }\n",
              "\n",
              "    .dataframe tbody tr th {\n",
              "        vertical-align: top;\n",
              "    }\n",
              "\n",
              "    .dataframe thead th {\n",
              "        text-align: right;\n",
              "    }\n",
              "</style>\n",
              "<table border=\"1\" class=\"dataframe\">\n",
              "  <thead>\n",
              "    <tr style=\"text-align: right;\">\n",
              "      <th></th>\n",
              "      <th>accr_x</th>\n",
              "      <th>accr_y</th>\n",
              "      <th>accr_z</th>\n",
              "      <th>gyr_x</th>\n",
              "      <th>gyr_y</th>\n",
              "      <th>gyr_z</th>\n",
              "    </tr>\n",
              "    <tr>\n",
              "      <th>time</th>\n",
              "      <th></th>\n",
              "      <th></th>\n",
              "      <th></th>\n",
              "      <th></th>\n",
              "      <th></th>\n",
              "      <th></th>\n",
              "    </tr>\n",
              "  </thead>\n",
              "  <tbody>\n",
              "    <tr>\n",
              "      <th>0.02</th>\n",
              "      <td>0.472646</td>\n",
              "      <td>8.442239</td>\n",
              "      <td>4.895000</td>\n",
              "      <td>-0.003342</td>\n",
              "      <td>-0.008138</td>\n",
              "      <td>-0.009979</td>\n",
              "    </tr>\n",
              "    <tr>\n",
              "      <th>0.12</th>\n",
              "      <td>0.529313</td>\n",
              "      <td>8.449321</td>\n",
              "      <td>4.891995</td>\n",
              "      <td>0.003333</td>\n",
              "      <td>0.007441</td>\n",
              "      <td>0.013408</td>\n",
              "    </tr>\n",
              "    <tr>\n",
              "      <th>0.22</th>\n",
              "      <td>0.599473</td>\n",
              "      <td>8.439262</td>\n",
              "      <td>4.870000</td>\n",
              "      <td>0.004878</td>\n",
              "      <td>-0.000661</td>\n",
              "      <td>-0.003626</td>\n",
              "    </tr>\n",
              "    <tr>\n",
              "      <th>0.32</th>\n",
              "      <td>0.490513</td>\n",
              "      <td>8.440615</td>\n",
              "      <td>4.886540</td>\n",
              "      <td>0.000044</td>\n",
              "      <td>0.001931</td>\n",
              "      <td>-0.002720</td>\n",
              "    </tr>\n",
              "    <tr>\n",
              "      <th>0.42</th>\n",
              "      <td>0.549082</td>\n",
              "      <td>8.420000</td>\n",
              "      <td>4.914359</td>\n",
              "      <td>0.002079</td>\n",
              "      <td>0.005036</td>\n",
              "      <td>0.004444</td>\n",
              "    </tr>\n",
              "  </tbody>\n",
              "</table>\n",
              "</div>"
            ],
            "text/plain": [
              "        accr_x    accr_y    accr_z     gyr_x     gyr_y     gyr_z\n",
              "time                                                            \n",
              "0.02  0.472646  8.442239  4.895000 -0.003342 -0.008138 -0.009979\n",
              "0.12  0.529313  8.449321  4.891995  0.003333  0.007441  0.013408\n",
              "0.22  0.599473  8.439262  4.870000  0.004878 -0.000661 -0.003626\n",
              "0.32  0.490513  8.440615  4.886540  0.000044  0.001931 -0.002720\n",
              "0.42  0.549082  8.420000  4.914359  0.002079  0.005036  0.004444"
            ]
          },
          "metadata": {
            "tags": []
          },
          "execution_count": 77
        }
      ]
    },
    {
      "cell_type": "code",
      "metadata": {
        "id": "lk2bcfBDEf73",
        "colab": {
          "base_uri": "https://localhost:8080/",
          "height": 51
        },
        "outputId": "ee31856e-fa36-40c6-feed-579d474c4712"
      },
      "source": [
        "import numpy as np\n",
        "y_pred_011 = rfc.predict(data)\n",
        "\n",
        "print(y_pred_011.shape)\n",
        "validationX_011 = pd.read_csv(\"subject_011_01__y_time.csv\", header=None)\n",
        "\n",
        "interpolated_data_011 = nn_interpolate(y_pred_011, (validationX_011.shape[0], validationX_011.shape[1]))\n",
        "print(interpolated_data_011.shape)\n",
        "\n",
        "sub011df = pd.DataFrame()\n",
        "sub011df[\"y_pred\"] = interpolated_data_011\n",
        "sub011df.y_pred.value_counts()\n",
        "sub011df.to_csv('subject_011_01__y_prediction.csv') \n",
        "files.download('subject_011_01__y_prediction.csv')\n",
        "#sub011df.to_csv (r'C:\\Users\\ashnayak\\Desktop\\NCSU\\NCSU Neural Nets\\Project C\\ECE542_sp2021_Project_TerrainRecognition\\Ash\\subject_011_01__y_prediction.csv', index = False, header=True)\n"
      ],
      "execution_count": 78,
      "outputs": [
        {
          "output_type": "stream",
          "text": [
            "(12940,)\n",
            "(12940,)\n"
          ],
          "name": "stdout"
        },
        {
          "output_type": "display_data",
          "data": {
            "application/javascript": [
              "\n",
              "    async function download(id, filename, size) {\n",
              "      if (!google.colab.kernel.accessAllowed) {\n",
              "        return;\n",
              "      }\n",
              "      const div = document.createElement('div');\n",
              "      const label = document.createElement('label');\n",
              "      label.textContent = `Downloading \"${filename}\": `;\n",
              "      div.appendChild(label);\n",
              "      const progress = document.createElement('progress');\n",
              "      progress.max = size;\n",
              "      div.appendChild(progress);\n",
              "      document.body.appendChild(div);\n",
              "\n",
              "      const buffers = [];\n",
              "      let downloaded = 0;\n",
              "\n",
              "      const channel = await google.colab.kernel.comms.open(id);\n",
              "      // Send a message to notify the kernel that we're ready.\n",
              "      channel.send({})\n",
              "\n",
              "      for await (const message of channel.messages) {\n",
              "        // Send a message to notify the kernel that we're ready.\n",
              "        channel.send({})\n",
              "        if (message.buffers) {\n",
              "          for (const buffer of message.buffers) {\n",
              "            buffers.push(buffer);\n",
              "            downloaded += buffer.byteLength;\n",
              "            progress.value = downloaded;\n",
              "          }\n",
              "        }\n",
              "      }\n",
              "      const blob = new Blob(buffers, {type: 'application/binary'});\n",
              "      const a = document.createElement('a');\n",
              "      a.href = window.URL.createObjectURL(blob);\n",
              "      a.download = filename;\n",
              "      div.appendChild(a);\n",
              "      a.click();\n",
              "      div.remove();\n",
              "    }\n",
              "  "
            ],
            "text/plain": [
              "<IPython.core.display.Javascript object>"
            ]
          },
          "metadata": {
            "tags": []
          }
        },
        {
          "output_type": "display_data",
          "data": {
            "application/javascript": [
              "download(\"download_f5be9972-e8ca-4e57-880f-40365e9a13b9\", \"subject_011_01__y_prediction.csv\", 118298)"
            ],
            "text/plain": [
              "<IPython.core.display.Javascript object>"
            ]
          },
          "metadata": {
            "tags": []
          }
        }
      ]
    },
    {
      "cell_type": "code",
      "metadata": {
        "id": "kTBPfCMPEf74",
        "colab": {
          "base_uri": "https://localhost:8080/",
          "height": 204
        },
        "outputId": "e1b04709-9c2c-44ff-cf93-353f713cc62f"
      },
      "source": [
        "testingX_012 = pd.read_csv(\"subject_012_01__x.csv\", names=['accr_x', 'accr_y','accr_z','gyr_x','gyr_y','gyr_z'])\n",
        "testingX_time_012 = pd.read_csv(\"subject_012_01__x_time.csv\", names = [\"x_time\"])\n",
        "testingY_time_012 = pd.read_csv(\"subject_012_01__y_time.csv\", names = [\"time\"])\n",
        "testingY_time_012.head()"
      ],
      "execution_count": 79,
      "outputs": [
        {
          "output_type": "execute_result",
          "data": {
            "text/html": [
              "<div>\n",
              "<style scoped>\n",
              "    .dataframe tbody tr th:only-of-type {\n",
              "        vertical-align: middle;\n",
              "    }\n",
              "\n",
              "    .dataframe tbody tr th {\n",
              "        vertical-align: top;\n",
              "    }\n",
              "\n",
              "    .dataframe thead th {\n",
              "        text-align: right;\n",
              "    }\n",
              "</style>\n",
              "<table border=\"1\" class=\"dataframe\">\n",
              "  <thead>\n",
              "    <tr style=\"text-align: right;\">\n",
              "      <th></th>\n",
              "      <th>time</th>\n",
              "    </tr>\n",
              "  </thead>\n",
              "  <tbody>\n",
              "    <tr>\n",
              "      <th>0</th>\n",
              "      <td>0.02</td>\n",
              "    </tr>\n",
              "    <tr>\n",
              "      <th>1</th>\n",
              "      <td>0.12</td>\n",
              "    </tr>\n",
              "    <tr>\n",
              "      <th>2</th>\n",
              "      <td>0.22</td>\n",
              "    </tr>\n",
              "    <tr>\n",
              "      <th>3</th>\n",
              "      <td>0.32</td>\n",
              "    </tr>\n",
              "    <tr>\n",
              "      <th>4</th>\n",
              "      <td>0.42</td>\n",
              "    </tr>\n",
              "  </tbody>\n",
              "</table>\n",
              "</div>"
            ],
            "text/plain": [
              "   time\n",
              "0  0.02\n",
              "1  0.12\n",
              "2  0.22\n",
              "3  0.32\n",
              "4  0.42"
            ]
          },
          "metadata": {
            "tags": []
          },
          "execution_count": 79
        }
      ]
    },
    {
      "cell_type": "code",
      "metadata": {
        "id": "S2PckcyKEf74",
        "colab": {
          "base_uri": "https://localhost:8080/",
          "height": 235
        },
        "outputId": "892f37c7-4d51-4995-e72d-02998ae2a517"
      },
      "source": [
        "x_data = testingX_012\n",
        "y_time = testingY_time_012\n",
        "x_data[\"time\"] = x_time[\"x_time\"]  \n",
        "\n",
        "data = x_data.merge(y_time,how=\"outer\", on = \"time\")\n",
        "data.sort_values(\"time\", inplace =True)\n",
        "data['drop_flag'] = data[\"accr_x\"].isnull()\n",
        "data = data.interpolate()\n",
        "\n",
        "data = data[data[\"drop_flag\"]]\n",
        "data.drop(\"drop_flag\", inplace = True,axis = 1)\n",
        "data.head(20)\n",
        "#len(data)\n",
        "\n",
        "\n",
        "# temp = data - data.shift(1)\n",
        "# temp = temp.fillna(0)\n",
        "# temp.columns = [x + \"delta1\" for x in temp.columns]\n",
        "# data = pd.concat([data,temp],axis=1)\n",
        "data.set_index([\"time\"], inplace = True)\n",
        "# master_data_y.set_index([\"subject\",\"time\"], inplace = True)\n",
        "data.head()\n",
        "# len(master_data)"
      ],
      "execution_count": 80,
      "outputs": [
        {
          "output_type": "execute_result",
          "data": {
            "text/html": [
              "<div>\n",
              "<style scoped>\n",
              "    .dataframe tbody tr th:only-of-type {\n",
              "        vertical-align: middle;\n",
              "    }\n",
              "\n",
              "    .dataframe tbody tr th {\n",
              "        vertical-align: top;\n",
              "    }\n",
              "\n",
              "    .dataframe thead th {\n",
              "        text-align: right;\n",
              "    }\n",
              "</style>\n",
              "<table border=\"1\" class=\"dataframe\">\n",
              "  <thead>\n",
              "    <tr style=\"text-align: right;\">\n",
              "      <th></th>\n",
              "      <th>accr_x</th>\n",
              "      <th>accr_y</th>\n",
              "      <th>accr_z</th>\n",
              "      <th>gyr_x</th>\n",
              "      <th>gyr_y</th>\n",
              "      <th>gyr_z</th>\n",
              "    </tr>\n",
              "    <tr>\n",
              "      <th>time</th>\n",
              "      <th></th>\n",
              "      <th></th>\n",
              "      <th></th>\n",
              "      <th></th>\n",
              "      <th></th>\n",
              "      <th></th>\n",
              "    </tr>\n",
              "  </thead>\n",
              "  <tbody>\n",
              "    <tr>\n",
              "      <th>0.02</th>\n",
              "      <td>-0.238852</td>\n",
              "      <td>9.065000</td>\n",
              "      <td>3.489485</td>\n",
              "      <td>0.002709</td>\n",
              "      <td>-0.004129</td>\n",
              "      <td>-0.003629</td>\n",
              "    </tr>\n",
              "    <tr>\n",
              "      <th>0.12</th>\n",
              "      <td>-0.240855</td>\n",
              "      <td>9.065000</td>\n",
              "      <td>3.465224</td>\n",
              "      <td>0.003574</td>\n",
              "      <td>-0.002318</td>\n",
              "      <td>-0.003164</td>\n",
              "    </tr>\n",
              "    <tr>\n",
              "      <th>0.22</th>\n",
              "      <td>-0.206497</td>\n",
              "      <td>9.079217</td>\n",
              "      <td>3.472257</td>\n",
              "      <td>-0.001656</td>\n",
              "      <td>0.001677</td>\n",
              "      <td>-0.004020</td>\n",
              "    </tr>\n",
              "    <tr>\n",
              "      <th>0.32</th>\n",
              "      <td>-0.266544</td>\n",
              "      <td>9.070161</td>\n",
              "      <td>3.490426</td>\n",
              "      <td>0.000897</td>\n",
              "      <td>0.001360</td>\n",
              "      <td>-0.001281</td>\n",
              "    </tr>\n",
              "    <tr>\n",
              "      <th>0.42</th>\n",
              "      <td>-0.180694</td>\n",
              "      <td>9.066498</td>\n",
              "      <td>3.477377</td>\n",
              "      <td>0.000727</td>\n",
              "      <td>-0.005213</td>\n",
              "      <td>-0.004444</td>\n",
              "    </tr>\n",
              "  </tbody>\n",
              "</table>\n",
              "</div>"
            ],
            "text/plain": [
              "        accr_x    accr_y    accr_z     gyr_x     gyr_y     gyr_z\n",
              "time                                                            \n",
              "0.02 -0.238852  9.065000  3.489485  0.002709 -0.004129 -0.003629\n",
              "0.12 -0.240855  9.065000  3.465224  0.003574 -0.002318 -0.003164\n",
              "0.22 -0.206497  9.079217  3.472257 -0.001656  0.001677 -0.004020\n",
              "0.32 -0.266544  9.070161  3.490426  0.000897  0.001360 -0.001281\n",
              "0.42 -0.180694  9.066498  3.477377  0.000727 -0.005213 -0.004444"
            ]
          },
          "metadata": {
            "tags": []
          },
          "execution_count": 80
        }
      ]
    },
    {
      "cell_type": "code",
      "metadata": {
        "id": "szrZnH9GEf75",
        "colab": {
          "base_uri": "https://localhost:8080/",
          "height": 51
        },
        "outputId": "8f23d5f4-34da-4de7-e5e4-780e065e5298"
      },
      "source": [
        "import numpy as np\n",
        "y_pred_012 = rfc.predict(data)\n",
        "\n",
        "print(y_pred_012.shape)\n",
        "validationX_012 = pd.read_csv(\"subject_012_01__y_time.csv\", header=None)\n",
        "\n",
        "interpolated_data_012 = nn_interpolate(y_pred_012, (validationX_012.shape[0], validationX_012.shape[1]))\n",
        "print(interpolated_data_012.shape)\n",
        "\n",
        "sub012df = pd.DataFrame()\n",
        "sub012df[\"y_pred\"] = interpolated_data_012\n",
        "sub012df.y_pred.value_counts()\n",
        "sub012df.to_csv('subject_012_01__y_prediction.csv') \n",
        "files.download('subject_012_01__y_prediction.csv')\n",
        "#sub012df.to_csv (r'C:\\Users\\ashnayak\\Desktop\\NCSU\\NCSU Neural Nets\\Project C\\ECE542_sp2021_Project_TerrainRecognition\\Ash\\subject_012_01__y_prediction.csv', index = False, header=True)\n"
      ],
      "execution_count": 81,
      "outputs": [
        {
          "output_type": "stream",
          "text": [
            "(11330,)\n",
            "(11330,)\n"
          ],
          "name": "stdout"
        },
        {
          "output_type": "display_data",
          "data": {
            "application/javascript": [
              "\n",
              "    async function download(id, filename, size) {\n",
              "      if (!google.colab.kernel.accessAllowed) {\n",
              "        return;\n",
              "      }\n",
              "      const div = document.createElement('div');\n",
              "      const label = document.createElement('label');\n",
              "      label.textContent = `Downloading \"${filename}\": `;\n",
              "      div.appendChild(label);\n",
              "      const progress = document.createElement('progress');\n",
              "      progress.max = size;\n",
              "      div.appendChild(progress);\n",
              "      document.body.appendChild(div);\n",
              "\n",
              "      const buffers = [];\n",
              "      let downloaded = 0;\n",
              "\n",
              "      const channel = await google.colab.kernel.comms.open(id);\n",
              "      // Send a message to notify the kernel that we're ready.\n",
              "      channel.send({})\n",
              "\n",
              "      for await (const message of channel.messages) {\n",
              "        // Send a message to notify the kernel that we're ready.\n",
              "        channel.send({})\n",
              "        if (message.buffers) {\n",
              "          for (const buffer of message.buffers) {\n",
              "            buffers.push(buffer);\n",
              "            downloaded += buffer.byteLength;\n",
              "            progress.value = downloaded;\n",
              "          }\n",
              "        }\n",
              "      }\n",
              "      const blob = new Blob(buffers, {type: 'application/binary'});\n",
              "      const a = document.createElement('a');\n",
              "      a.href = window.URL.createObjectURL(blob);\n",
              "      a.download = filename;\n",
              "      div.appendChild(a);\n",
              "      a.click();\n",
              "      div.remove();\n",
              "    }\n",
              "  "
            ],
            "text/plain": [
              "<IPython.core.display.Javascript object>"
            ]
          },
          "metadata": {
            "tags": []
          }
        },
        {
          "output_type": "display_data",
          "data": {
            "application/javascript": [
              "download(\"download_48731926-2ec6-4389-8f2a-844938a0e571\", \"subject_012_01__y_prediction.csv\", 102198)"
            ],
            "text/plain": [
              "<IPython.core.display.Javascript object>"
            ]
          },
          "metadata": {
            "tags": []
          }
        }
      ]
    },
    {
      "cell_type": "code",
      "metadata": {
        "id": "7f5XRBtgEf75"
      },
      "source": [
        "from sklearn.model_selection import GridSearchCV\n",
        "\n",
        "param_grid = [\n",
        "{'n_estimators': [10, 25, 50, 100], 'max_features': [5, 10]}\n",
        "]"
      ],
      "execution_count": 58,
      "outputs": []
    },
    {
      "cell_type": "code",
      "metadata": {
        "id": "d2anqozIEf76"
      },
      "source": [
        "# grid_search_forest = GridSearchCV(rfc, param_grid, cv=10, scoring='neg_mean_squared_error')\n",
        "# grid_search_forest.fit(X_,Ysmote)"
      ],
      "execution_count": 59,
      "outputs": []
    },
    {
      "cell_type": "code",
      "metadata": {
        "id": "OUxbLWAtEf76"
      },
      "source": [
        "# cvres = grid_search_forest.cv_results_\n",
        "# for mean_score, params in zip(cvres[\"mean_test_score\"], cvres[\"params\"]):\n",
        "#     print(np.sqrt(-mean_score), params)\n"
      ],
      "execution_count": 61,
      "outputs": []
    },
    {
      "cell_type": "code",
      "metadata": {
        "id": "Z1b9BcemEf76"
      },
      "source": [
        ""
      ],
      "execution_count": null,
      "outputs": []
    }
  ]
}